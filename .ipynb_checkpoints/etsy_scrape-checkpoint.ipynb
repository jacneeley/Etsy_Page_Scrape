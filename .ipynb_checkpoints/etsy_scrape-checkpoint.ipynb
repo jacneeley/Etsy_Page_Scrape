{
 "cells": [
  {
   "cell_type": "code",
   "execution_count": 2,
   "id": "1e14d581",
   "metadata": {},
   "outputs": [],
   "source": [
    "##get libraries and packages\n",
    "from bs4 import BeautifulSoup\n",
    "import requests\n",
    "import csv\n",
    "import pandas as pd"
   ]
  },
  {
   "cell_type": "code",
   "execution_count": 4,
   "id": "c7a6ad43",
   "metadata": {},
   "outputs": [
    {
     "name": "stdout",
     "output_type": "stream",
     "text": [
      "<Response [200]>\n"
     ]
    }
   ],
   "source": [
    "#get the page and wait response[200]\n",
    "etsy_page = requests.get(\"https://www.etsy.com/listing/244916044/ncaa-university-of-miami-hurricanes?click_key=9841d48594dedad88dbc90a67f13b67fce8a5181%3A244916044&click_sum=97cf7e4b&ref=sold_out-18&frs=1\")\n",
    "print(etsy_page)\n",
    "\n"
   ]
  },
  {
   "cell_type": "code",
   "execution_count": 5,
   "id": "0e37a4bb",
   "metadata": {},
   "outputs": [],
   "source": [
    "##parse the html page\n",
    "soup = BeautifulSoup(etsy_page.content,\"html.parser\")"
   ]
  },
  {
   "cell_type": "code",
   "execution_count": 7,
   "id": "4d7cc855",
   "metadata": {},
   "outputs": [
    {
     "name": "stdout",
     "output_type": "stream",
     "text": [
      "\n",
      "    NCAA University of Miami Hurricanes Green & Orange College Logo 100% Cotton Fabric! 2 Styles\n",
      " \n",
      "        $3.50+\n",
      "     \n",
      "\n",
      "\n",
      "5 out of 5 stars\n",
      "\n",
      "\n",
      "\n",
      "\n",
      "\n",
      "\n",
      "\n",
      "\n"
     ]
    }
   ],
   "source": [
    "##Parse Product name, price, review\n",
    "pname=soup.find_all(class_= \"wt-text-body-03 wt-line-height-tight wt-break-word\")\n",
    "price = soup.find_all(class_=\"wt-text-title-03 wt-mr-xs-1\")\n",
    "rate = soup.find_all(class_=\"wt-display-inline-block wt-mr-xs-1\")\n",
    "print(pname[0].text,price[0].get_text(),rate[0].text)"
   ]
  },
  {
   "cell_type": "code",
   "execution_count": 8,
   "id": "1b579857",
   "metadata": {},
   "outputs": [
    {
     "ename": "AttributeError",
     "evalue": "'NoneType' object has no attribute 'get_text'",
     "output_type": "error",
     "traceback": [
      "\u001b[1;31m---------------------------------------------------------------------------\u001b[0m",
      "\u001b[1;31mAttributeError\u001b[0m                            Traceback (most recent call last)",
      "Input \u001b[1;32mIn [8]\u001b[0m, in \u001b[0;36m<cell line: 4>\u001b[1;34m()\u001b[0m\n\u001b[0;32m      2\u001b[0m etsy_item \u001b[38;5;241m=\u001b[39m soup\u001b[38;5;241m.\u001b[39mfind_all(class_\u001b[38;5;241m=\u001b[39m\u001b[38;5;124m\"\u001b[39m\u001b[38;5;124mcart-col wt-order-xs-2 wt-mb-lg-6\u001b[39m\u001b[38;5;124m\"\u001b[39m)\n\u001b[0;32m      3\u001b[0m listing \u001b[38;5;241m=\u001b[39m etsy_item[\u001b[38;5;241m0\u001b[39m]\n\u001b[1;32m----> 4\u001b[0m \u001b[38;5;28mprint\u001b[39m(\u001b[43mlisting\u001b[49m\u001b[38;5;241;43m.\u001b[39;49m\u001b[43mfind\u001b[49m\u001b[43m(\u001b[49m\u001b[43mpname\u001b[49m\u001b[43m)\u001b[49m\u001b[38;5;241;43m.\u001b[39;49m\u001b[43mget_text\u001b[49m())\n\u001b[0;32m      5\u001b[0m \u001b[38;5;28mprint\u001b[39m(listing\u001b[38;5;241m.\u001b[39mfind(class_\u001b[38;5;241m=\u001b[39m\u001b[38;5;124m\"\u001b[39m\u001b[38;5;124mwt-text-title-03 wt-mr-xs-1\u001b[39m\u001b[38;5;124m\"\u001b[39m)\u001b[38;5;241m.\u001b[39mget_text())\n\u001b[0;32m      6\u001b[0m \u001b[38;5;28mprint\u001b[39m(listing\u001b[38;5;241m.\u001b[39mfind(class_\u001b[38;5;241m=\u001b[39m\u001b[38;5;124m\"\u001b[39m\u001b[38;5;124mwt-display-inline-block wt-mr-xs-1\u001b[39m\u001b[38;5;124m\"\u001b[39m)\u001b[38;5;241m.\u001b[39mget_text())\n",
      "\u001b[1;31mAttributeError\u001b[0m: 'NoneType' object has no attribute 'get_text'"
     ]
    }
   ],
   "source": [
    "##Etsy item\n",
    "etsy_item = soup.find_all(class_=\"cart-col wt-order-xs-2 wt-mb-lg-6\")\n",
    "listing = etsy_item[0]\n",
    "print(listing.find(pname).get_text())\n",
    "print(listing.find(class_=\"wt-text-title-03 wt-mr-xs-1\").get_text())\n",
    "print(listing.find(class_=\"wt-display-inline-block wt-mr-xs-1\").get_text())\n"
   ]
  },
  {
   "cell_type": "code",
   "execution_count": 61,
   "id": "3c6cf791",
   "metadata": {},
   "outputs": [
    {
     "name": "stdout",
     "output_type": "stream",
     "text": [
      "['NCAA University of Miami Hurricanes Green & Orange College Logo 100% Cotton Fabric! 2 Styles'] ['$3.50'] ['5 out of 5 stars']\n"
     ]
    }
   ],
   "source": [
    "product=[]\n",
    "price=[]\n",
    "rating=[]\n",
    "for pname in etsy_item:\n",
    "    i1=pname.find(class_= \"wt-text-body-03 wt-line-height-tight wt-break-word\")\n",
    "    product.append(i1.text.strip('\\n '))\n",
    "for p in etsy_item:\n",
    "    i2=p.find(class_= \"wt-text-title-03 wt-mr-xs-1\")\n",
    "    price.append(i2.text.strip('+\\n '))\n",
    "for star in etsy_item:\n",
    "    i3=star.find(class_=\"wt-display-inline-block wt-mr-xs-1\")\n",
    "    rating.append(i3.text.strip('\\n '))\n",
    "print(product,price,rating)"
   ]
  },
  {
   "cell_type": "code",
   "execution_count": 62,
   "id": "8050f703",
   "metadata": {},
   "outputs": [
    {
     "name": "stdout",
     "output_type": "stream",
     "text": [
      "                                        product name  price            Review\n",
      "0  NCAA University of Miami Hurricanes Green & Or...  $3.50  5 out of 5 stars\n"
     ]
    }
   ],
   "source": [
    "#Create a DataFrame using Pandas\n",
    "listingz = pd.DataFrame({\n",
    "    'product name':product,\n",
    "    'price':price,\n",
    "    'Review':rating\n",
    "    })\n",
    "print(listingz)"
   ]
  },
  {
   "cell_type": "code",
   "execution_count": 63,
   "id": "d6c84907",
   "metadata": {},
   "outputs": [],
   "source": [
    "##export to csv\n",
    "export_csv = listingz.to_csv('etsy_items',index = None, header = True)"
   ]
  },
  {
   "cell_type": "code",
   "execution_count": null,
   "id": "0684398e",
   "metadata": {},
   "outputs": [],
   "source": []
  }
 ],
 "metadata": {
  "kernelspec": {
   "display_name": "Python 3 (ipykernel)",
   "language": "python",
   "name": "python3"
  },
  "language_info": {
   "codemirror_mode": {
    "name": "ipython",
    "version": 3
   },
   "file_extension": ".py",
   "mimetype": "text/x-python",
   "name": "python",
   "nbconvert_exporter": "python",
   "pygments_lexer": "ipython3",
   "version": "3.9.12"
  }
 },
 "nbformat": 4,
 "nbformat_minor": 5
}
